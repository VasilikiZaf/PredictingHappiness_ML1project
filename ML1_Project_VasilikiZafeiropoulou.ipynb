{
 "cells": [
  {
   "cell_type": "markdown",
   "metadata": {},
   "source": [
    " \n",
    " <h1> Machine Learning 1 : Exam Project </h1>\n",
    " <h3> Professor : Walter Daelemans </h3>\n",
    " <h3> University of Antwerp, January 2021 </h3>\n",
    " <h3> Vasiliki Zafeiropoulou - Student number : 20204984 </h3>"
   ]
  },
  {
   "cell_type": "code",
   "execution_count": 83,
   "metadata": {},
   "outputs": [],
   "source": [
    "#Importing all necessary modules\n",
    "import numpy as np\n",
    "import pandas as pd\n",
    "import os\n",
    "from sklearn.model_selection import train_test_split, GridSearchCV, cross_val_score\n",
    "from sklearn.pipeline import make_pipeline\n",
    "from sklearn.metrics import classification_report, confusion_matrix, accuracy_score,plot_confusion_matrix\n",
    "from sklearn.preprocessing import StandardScaler\n",
    "import matplotlib.pyplot as plt"
   ]
  },
  {
   "cell_type": "markdown",
   "metadata": {},
   "source": [
    "## Reading and preprocessing our data ##"
   ]
  },
  {
   "cell_type": "code",
   "execution_count": 84,
   "metadata": {},
   "outputs": [
    {
     "name": "stdout",
     "output_type": "stream",
     "text": [
      "158\n",
      "157\n"
     ]
    },
    {
     "data": {
      "text/plain": [
       "Index(['Country', 'Region', 'Happiness Rank', 'Happiness Score',\n",
       "       'Standard Error', 'Economy (GDP per Capita)', 'Family',\n",
       "       'Health (Life Expectancy)', 'Freedom', 'Trust (Government Corruption)',\n",
       "       'Generosity', 'Dystopia Residual'],\n",
       "      dtype='object')"
      ]
     },
     "execution_count": 84,
     "metadata": {},
     "output_type": "execute_result"
    }
   ],
   "source": [
    "os.chdir('C:/Users/vasil/Desktop/bootcamp/Machine Learning/WorldHappiness')\n",
    "# Reading the csv files. Since there are multiple happiness data for each year, I want to create a csv file with combined \n",
    "# data for years 2015-16.\n",
    "\n",
    "d2015 = pd.read_csv('2015.csv') #Read the files\n",
    "d2016 = pd.read_csv('2016.csv')\n",
    "\n",
    "#Inspect the files\n",
    "print(len(d2015)) #So we see that there is one extra. \n",
    "print(len(d2016))\n",
    "d2015.columns\n"
   ]
  },
  {
   "cell_type": "code",
   "execution_count": 85,
   "metadata": {},
   "outputs": [
    {
     "data": {
      "text/html": [
       "<div>\n",
       "<style scoped>\n",
       "    .dataframe tbody tr th:only-of-type {\n",
       "        vertical-align: middle;\n",
       "    }\n",
       "\n",
       "    .dataframe tbody tr th {\n",
       "        vertical-align: top;\n",
       "    }\n",
       "\n",
       "    .dataframe thead th {\n",
       "        text-align: right;\n",
       "    }\n",
       "</style>\n",
       "<table border=\"1\" class=\"dataframe\">\n",
       "  <thead>\n",
       "    <tr style=\"text-align: right;\">\n",
       "      <th></th>\n",
       "      <th>Country</th>\n",
       "      <th>Region</th>\n",
       "      <th>Happiness Rank</th>\n",
       "      <th>Happiness Score</th>\n",
       "      <th>Lower Confidence Interval</th>\n",
       "      <th>Upper Confidence Interval</th>\n",
       "      <th>Economy (GDP per Capita)</th>\n",
       "      <th>Family</th>\n",
       "      <th>Health (Life Expectancy)</th>\n",
       "      <th>Freedom</th>\n",
       "      <th>Trust (Government Corruption)</th>\n",
       "      <th>Generosity</th>\n",
       "      <th>Dystopia Residual</th>\n",
       "    </tr>\n",
       "  </thead>\n",
       "  <tbody>\n",
       "    <tr>\n",
       "      <th>0</th>\n",
       "      <td>Denmark</td>\n",
       "      <td>Western Europe</td>\n",
       "      <td>1</td>\n",
       "      <td>7.526</td>\n",
       "      <td>7.460</td>\n",
       "      <td>7.592</td>\n",
       "      <td>1.44178</td>\n",
       "      <td>1.16374</td>\n",
       "      <td>0.79504</td>\n",
       "      <td>0.57941</td>\n",
       "      <td>0.44453</td>\n",
       "      <td>0.36171</td>\n",
       "      <td>2.73939</td>\n",
       "    </tr>\n",
       "    <tr>\n",
       "      <th>1</th>\n",
       "      <td>Switzerland</td>\n",
       "      <td>Western Europe</td>\n",
       "      <td>2</td>\n",
       "      <td>7.509</td>\n",
       "      <td>7.428</td>\n",
       "      <td>7.590</td>\n",
       "      <td>1.52733</td>\n",
       "      <td>1.14524</td>\n",
       "      <td>0.86303</td>\n",
       "      <td>0.58557</td>\n",
       "      <td>0.41203</td>\n",
       "      <td>0.28083</td>\n",
       "      <td>2.69463</td>\n",
       "    </tr>\n",
       "    <tr>\n",
       "      <th>2</th>\n",
       "      <td>Iceland</td>\n",
       "      <td>Western Europe</td>\n",
       "      <td>3</td>\n",
       "      <td>7.501</td>\n",
       "      <td>7.333</td>\n",
       "      <td>7.669</td>\n",
       "      <td>1.42666</td>\n",
       "      <td>1.18326</td>\n",
       "      <td>0.86733</td>\n",
       "      <td>0.56624</td>\n",
       "      <td>0.14975</td>\n",
       "      <td>0.47678</td>\n",
       "      <td>2.83137</td>\n",
       "    </tr>\n",
       "    <tr>\n",
       "      <th>3</th>\n",
       "      <td>Norway</td>\n",
       "      <td>Western Europe</td>\n",
       "      <td>4</td>\n",
       "      <td>7.498</td>\n",
       "      <td>7.421</td>\n",
       "      <td>7.575</td>\n",
       "      <td>1.57744</td>\n",
       "      <td>1.12690</td>\n",
       "      <td>0.79579</td>\n",
       "      <td>0.59609</td>\n",
       "      <td>0.35776</td>\n",
       "      <td>0.37895</td>\n",
       "      <td>2.66465</td>\n",
       "    </tr>\n",
       "    <tr>\n",
       "      <th>4</th>\n",
       "      <td>Finland</td>\n",
       "      <td>Western Europe</td>\n",
       "      <td>5</td>\n",
       "      <td>7.413</td>\n",
       "      <td>7.351</td>\n",
       "      <td>7.475</td>\n",
       "      <td>1.40598</td>\n",
       "      <td>1.13464</td>\n",
       "      <td>0.81091</td>\n",
       "      <td>0.57104</td>\n",
       "      <td>0.41004</td>\n",
       "      <td>0.25492</td>\n",
       "      <td>2.82596</td>\n",
       "    </tr>\n",
       "  </tbody>\n",
       "</table>\n",
       "</div>"
      ],
      "text/plain": [
       "       Country          Region  Happiness Rank  Happiness Score  \\\n",
       "0      Denmark  Western Europe               1            7.526   \n",
       "1  Switzerland  Western Europe               2            7.509   \n",
       "2      Iceland  Western Europe               3            7.501   \n",
       "3       Norway  Western Europe               4            7.498   \n",
       "4      Finland  Western Europe               5            7.413   \n",
       "\n",
       "   Lower Confidence Interval  Upper Confidence Interval  \\\n",
       "0                      7.460                      7.592   \n",
       "1                      7.428                      7.590   \n",
       "2                      7.333                      7.669   \n",
       "3                      7.421                      7.575   \n",
       "4                      7.351                      7.475   \n",
       "\n",
       "   Economy (GDP per Capita)   Family  Health (Life Expectancy)  Freedom  \\\n",
       "0                   1.44178  1.16374                   0.79504  0.57941   \n",
       "1                   1.52733  1.14524                   0.86303  0.58557   \n",
       "2                   1.42666  1.18326                   0.86733  0.56624   \n",
       "3                   1.57744  1.12690                   0.79579  0.59609   \n",
       "4                   1.40598  1.13464                   0.81091  0.57104   \n",
       "\n",
       "   Trust (Government Corruption)  Generosity  Dystopia Residual  \n",
       "0                        0.44453     0.36171            2.73939  \n",
       "1                        0.41203     0.28083            2.69463  \n",
       "2                        0.14975     0.47678            2.83137  \n",
       "3                        0.35776     0.37895            2.66465  \n",
       "4                        0.41004     0.25492            2.82596  "
      ]
     },
     "execution_count": 85,
     "metadata": {},
     "output_type": "execute_result"
    }
   ],
   "source": [
    "d2015.head()\n",
    "d2016.head()"
   ]
  },
  {
   "cell_type": "code",
   "execution_count": 86,
   "metadata": {},
   "outputs": [
    {
     "name": "stdout",
     "output_type": "stream",
     "text": [
      "<class 'pandas.core.frame.DataFrame'>\n",
      "Int64Index: 151 entries, 0 to 150\n",
      "Data columns (total 10 columns):\n",
      " #   Column                         Non-Null Count  Dtype  \n",
      "---  ------                         --------------  -----  \n",
      " 0   Country                        151 non-null    object \n",
      " 1   Region                         151 non-null    object \n",
      " 2   Happiness_Score_2015           151 non-null    float64\n",
      " 3   Economy (GDP per Capita)       151 non-null    float64\n",
      " 4   Family                         151 non-null    float64\n",
      " 5   Health (Life Expectancy)       151 non-null    float64\n",
      " 6   Freedom                        151 non-null    float64\n",
      " 7   Trust (Government Corruption)  151 non-null    float64\n",
      " 8   Generosity                     151 non-null    float64\n",
      " 9   Happiness_Score_2016           151 non-null    float64\n",
      "dtypes: float64(8), object(2)\n",
      "memory usage: 13.0+ KB\n"
     ]
    },
    {
     "data": {
      "text/html": [
       "<div>\n",
       "<style scoped>\n",
       "    .dataframe tbody tr th:only-of-type {\n",
       "        vertical-align: middle;\n",
       "    }\n",
       "\n",
       "    .dataframe tbody tr th {\n",
       "        vertical-align: top;\n",
       "    }\n",
       "\n",
       "    .dataframe thead th {\n",
       "        text-align: right;\n",
       "    }\n",
       "</style>\n",
       "<table border=\"1\" class=\"dataframe\">\n",
       "  <thead>\n",
       "    <tr style=\"text-align: right;\">\n",
       "      <th></th>\n",
       "      <th>Country</th>\n",
       "      <th>Region</th>\n",
       "      <th>Happiness_Score_2015</th>\n",
       "      <th>Economy (GDP per Capita)</th>\n",
       "      <th>Family</th>\n",
       "      <th>Health (Life Expectancy)</th>\n",
       "      <th>Freedom</th>\n",
       "      <th>Trust (Government Corruption)</th>\n",
       "      <th>Generosity</th>\n",
       "      <th>Happiness_Score_2016</th>\n",
       "    </tr>\n",
       "  </thead>\n",
       "  <tbody>\n",
       "    <tr>\n",
       "      <th>0</th>\n",
       "      <td>Switzerland</td>\n",
       "      <td>Western Europe</td>\n",
       "      <td>7.587</td>\n",
       "      <td>1.39651</td>\n",
       "      <td>1.34951</td>\n",
       "      <td>0.94143</td>\n",
       "      <td>0.66557</td>\n",
       "      <td>0.41978</td>\n",
       "      <td>0.29678</td>\n",
       "      <td>7.509</td>\n",
       "    </tr>\n",
       "    <tr>\n",
       "      <th>1</th>\n",
       "      <td>Iceland</td>\n",
       "      <td>Western Europe</td>\n",
       "      <td>7.561</td>\n",
       "      <td>1.30232</td>\n",
       "      <td>1.40223</td>\n",
       "      <td>0.94784</td>\n",
       "      <td>0.62877</td>\n",
       "      <td>0.14145</td>\n",
       "      <td>0.43630</td>\n",
       "      <td>7.501</td>\n",
       "    </tr>\n",
       "    <tr>\n",
       "      <th>2</th>\n",
       "      <td>Denmark</td>\n",
       "      <td>Western Europe</td>\n",
       "      <td>7.527</td>\n",
       "      <td>1.32548</td>\n",
       "      <td>1.36058</td>\n",
       "      <td>0.87464</td>\n",
       "      <td>0.64938</td>\n",
       "      <td>0.48357</td>\n",
       "      <td>0.34139</td>\n",
       "      <td>7.526</td>\n",
       "    </tr>\n",
       "    <tr>\n",
       "      <th>3</th>\n",
       "      <td>Norway</td>\n",
       "      <td>Western Europe</td>\n",
       "      <td>7.522</td>\n",
       "      <td>1.45900</td>\n",
       "      <td>1.33095</td>\n",
       "      <td>0.88521</td>\n",
       "      <td>0.66973</td>\n",
       "      <td>0.36503</td>\n",
       "      <td>0.34699</td>\n",
       "      <td>7.498</td>\n",
       "    </tr>\n",
       "    <tr>\n",
       "      <th>4</th>\n",
       "      <td>Canada</td>\n",
       "      <td>North America</td>\n",
       "      <td>7.427</td>\n",
       "      <td>1.32629</td>\n",
       "      <td>1.32261</td>\n",
       "      <td>0.90563</td>\n",
       "      <td>0.63297</td>\n",
       "      <td>0.32957</td>\n",
       "      <td>0.45811</td>\n",
       "      <td>7.404</td>\n",
       "    </tr>\n",
       "  </tbody>\n",
       "</table>\n",
       "</div>"
      ],
      "text/plain": [
       "       Country          Region  Happiness_Score_2015  \\\n",
       "0  Switzerland  Western Europe                 7.587   \n",
       "1      Iceland  Western Europe                 7.561   \n",
       "2      Denmark  Western Europe                 7.527   \n",
       "3       Norway  Western Europe                 7.522   \n",
       "4       Canada   North America                 7.427   \n",
       "\n",
       "   Economy (GDP per Capita)   Family  Health (Life Expectancy)  Freedom  \\\n",
       "0                   1.39651  1.34951                   0.94143  0.66557   \n",
       "1                   1.30232  1.40223                   0.94784  0.62877   \n",
       "2                   1.32548  1.36058                   0.87464  0.64938   \n",
       "3                   1.45900  1.33095                   0.88521  0.66973   \n",
       "4                   1.32629  1.32261                   0.90563  0.63297   \n",
       "\n",
       "   Trust (Government Corruption)  Generosity  Happiness_Score_2016  \n",
       "0                        0.41978     0.29678                 7.509  \n",
       "1                        0.14145     0.43630                 7.501  \n",
       "2                        0.48357     0.34139                 7.526  \n",
       "3                        0.36503     0.34699                 7.498  \n",
       "4                        0.32957     0.45811                 7.404  "
      ]
     },
     "execution_count": 86,
     "metadata": {},
     "output_type": "execute_result"
    }
   ],
   "source": [
    "y = d2016.filter(['Country', 'Happiness Score']) \n",
    "x = d2015.drop(columns=['Standard Error', 'Happiness Rank', 'Dystopia Residual'] )\n",
    "\n",
    "df = x.merge(y, on = 'Country') #I merge the two tables into one based on the Country name, making sure that only \n",
    "                                #scores for countries that exist in both tables are used.\n",
    "happiness = df.rename( columns = {'Happiness Score_x': 'Happiness_Score_2015','Happiness Score_y':'Happiness_Score_2016'})\n",
    "happiness.isnull().sum() #no empty values so we move on = df.Sex.apply(lambda x: 1 if x == 'female' else 0)\n",
    "happiness.info()\n",
    "happiness.describe()\n",
    "happiness.head() #everything seems to be okay\n",
    "\n"
   ]
  },
  {
   "cell_type": "code",
   "execution_count": 87,
   "metadata": {},
   "outputs": [
    {
     "name": "stdout",
     "output_type": "stream",
     "text": [
      "       Happiness_Score_2015  Economy (GDP per Capita)      Family  \\\n",
      "count            151.000000                151.000000  151.000000   \n",
      "mean               4.841060                  0.863919    0.998806   \n",
      "std                1.194949                  0.393220    0.264277   \n",
      "min                2.000000                  0.000000    0.139950   \n",
      "25%                4.000000                  0.593865    0.858015   \n",
      "50%                5.000000                  0.920490    1.032760   \n",
      "75%                6.000000                  1.164410    1.221780   \n",
      "max                7.000000                  1.690420    1.402230   \n",
      "\n",
      "       Health (Life Expectancy)     Freedom  Trust (Government Corruption)  \\\n",
      "count                151.000000  151.000000                     151.000000   \n",
      "mean                   0.647063    0.428533                       0.140798   \n",
      "std                    0.233719    0.152370                       0.119071   \n",
      "min                    0.000000    0.000000                       0.000000   \n",
      "25%                    0.514975    0.328480                       0.060675   \n",
      "50%                    0.703800    0.434770                       0.105830   \n",
      "75%                    0.813845    0.552430                       0.177215   \n",
      "max                    1.025250    0.669730                       0.551910   \n",
      "\n",
      "       Generosity  Happiness_Score_2016  \n",
      "count  151.000000            151.000000  \n",
      "mean     0.236991              4.887417  \n",
      "std      0.127456              1.174978  \n",
      "min      0.000000              2.000000  \n",
      "25%      0.144230              4.000000  \n",
      "50%      0.216840              5.000000  \n",
      "75%      0.314745              6.000000  \n",
      "max      0.795880              7.000000  \n",
      "(151, 10)\n"
     ]
    }
   ],
   "source": [
    "happiness.Happiness_Score_2015= happiness.Happiness_Score_2015.astype(int)\n",
    "happiness.Happiness_Score_2016 = happiness.Happiness_Score_2016.astype(int)\n",
    "happiness.head()\n",
    "print(happiness.describe())\n",
    "print(happiness.shape)\n"
   ]
  },
  {
   "cell_type": "code",
   "execution_count": 88,
   "metadata": {},
   "outputs": [
    {
     "data": {
      "text/plain": [
       "0    60\n",
       "1    48\n",
       "2    43\n",
       "Name: Happiness_Score_2015, dtype: int64"
      ]
     },
     "execution_count": 88,
     "metadata": {},
     "output_type": "execute_result"
    }
   ],
   "source": [
    "#Making this a classification problem\n",
    "#Since we see that 25% of the scores = 4 that's going to be our limit for unhappy\n",
    "\n",
    "happiness.Happiness_Score_2015 = happiness.Happiness_Score_2015.apply(lambda x: 0 if x <= 4 else 2 if x >= 6 else 1)\n",
    "\n",
    "happiness.Happiness_Score_2015.value_counts()\n"
   ]
  },
  {
   "cell_type": "code",
   "execution_count": 89,
   "metadata": {},
   "outputs": [
    {
     "data": {
      "text/plain": [
       "0    56\n",
       "1    49\n",
       "2    46\n",
       "Name: Happiness_Score_2016, dtype: int64"
      ]
     },
     "execution_count": 89,
     "metadata": {},
     "output_type": "execute_result"
    }
   ],
   "source": [
    "happiness.Happiness_Score_2016 = happiness.Happiness_Score_2016.apply(lambda x: 0 if x <= 4 else 2 if x >= 6 else 1)\n",
    "happiness.Happiness_Score_2016.value_counts()\n",
    "#We get about the same proportions."
   ]
  },
  {
   "cell_type": "code",
   "execution_count": 90,
   "metadata": {},
   "outputs": [
    {
     "data": {
      "text/html": [
       "<div>\n",
       "<style scoped>\n",
       "    .dataframe tbody tr th:only-of-type {\n",
       "        vertical-align: middle;\n",
       "    }\n",
       "\n",
       "    .dataframe tbody tr th {\n",
       "        vertical-align: top;\n",
       "    }\n",
       "\n",
       "    .dataframe thead th {\n",
       "        text-align: right;\n",
       "    }\n",
       "</style>\n",
       "<table border=\"1\" class=\"dataframe\">\n",
       "  <thead>\n",
       "    <tr style=\"text-align: right;\">\n",
       "      <th></th>\n",
       "      <th>Happiness_Score_2015</th>\n",
       "      <th>Economy (GDP per Capita)</th>\n",
       "      <th>Family</th>\n",
       "      <th>Health (Life Expectancy)</th>\n",
       "      <th>Freedom</th>\n",
       "      <th>Trust (Government Corruption)</th>\n",
       "      <th>Generosity</th>\n",
       "    </tr>\n",
       "  </thead>\n",
       "  <tbody>\n",
       "    <tr>\n",
       "      <th>0</th>\n",
       "      <td>2</td>\n",
       "      <td>1.39651</td>\n",
       "      <td>1.34951</td>\n",
       "      <td>0.94143</td>\n",
       "      <td>0.66557</td>\n",
       "      <td>0.41978</td>\n",
       "      <td>0.29678</td>\n",
       "    </tr>\n",
       "    <tr>\n",
       "      <th>1</th>\n",
       "      <td>2</td>\n",
       "      <td>1.30232</td>\n",
       "      <td>1.40223</td>\n",
       "      <td>0.94784</td>\n",
       "      <td>0.62877</td>\n",
       "      <td>0.14145</td>\n",
       "      <td>0.43630</td>\n",
       "    </tr>\n",
       "    <tr>\n",
       "      <th>2</th>\n",
       "      <td>2</td>\n",
       "      <td>1.32548</td>\n",
       "      <td>1.36058</td>\n",
       "      <td>0.87464</td>\n",
       "      <td>0.64938</td>\n",
       "      <td>0.48357</td>\n",
       "      <td>0.34139</td>\n",
       "    </tr>\n",
       "    <tr>\n",
       "      <th>3</th>\n",
       "      <td>2</td>\n",
       "      <td>1.45900</td>\n",
       "      <td>1.33095</td>\n",
       "      <td>0.88521</td>\n",
       "      <td>0.66973</td>\n",
       "      <td>0.36503</td>\n",
       "      <td>0.34699</td>\n",
       "    </tr>\n",
       "    <tr>\n",
       "      <th>4</th>\n",
       "      <td>2</td>\n",
       "      <td>1.32629</td>\n",
       "      <td>1.32261</td>\n",
       "      <td>0.90563</td>\n",
       "      <td>0.63297</td>\n",
       "      <td>0.32957</td>\n",
       "      <td>0.45811</td>\n",
       "    </tr>\n",
       "  </tbody>\n",
       "</table>\n",
       "</div>"
      ],
      "text/plain": [
       "   Happiness_Score_2015  Economy (GDP per Capita)   Family  \\\n",
       "0                     2                   1.39651  1.34951   \n",
       "1                     2                   1.30232  1.40223   \n",
       "2                     2                   1.32548  1.36058   \n",
       "3                     2                   1.45900  1.33095   \n",
       "4                     2                   1.32629  1.32261   \n",
       "\n",
       "   Health (Life Expectancy)  Freedom  Trust (Government Corruption)  \\\n",
       "0                   0.94143  0.66557                        0.41978   \n",
       "1                   0.94784  0.62877                        0.14145   \n",
       "2                   0.87464  0.64938                        0.48357   \n",
       "3                   0.88521  0.66973                        0.36503   \n",
       "4                   0.90563  0.63297                        0.32957   \n",
       "\n",
       "   Generosity  \n",
       "0     0.29678  \n",
       "1     0.43630  \n",
       "2     0.34139  \n",
       "3     0.34699  \n",
       "4     0.45811  "
      ]
     },
     "execution_count": 90,
     "metadata": {},
     "output_type": "execute_result"
    }
   ],
   "source": [
    "#We create our X(features) and y(output) sets.\n",
    "y = happiness.Happiness_Score_2016\n",
    "X = happiness.drop(columns=[ 'Happiness_Score_2016','Country','Region',])\n",
    "y.shape, X.shape\n",
    "X.columns\n",
    "X.head()"
   ]
  },
  {
   "cell_type": "markdown",
   "metadata": {},
   "source": [
    "## Feature Selection ##"
   ]
  },
  {
   "cell_type": "code",
   "execution_count": 91,
   "metadata": {},
   "outputs": [
    {
     "data": {
      "text/plain": [
       "<matplotlib.axes._subplots.AxesSubplot at 0x2261d180a30>"
      ]
     },
     "execution_count": 91,
     "metadata": {},
     "output_type": "execute_result"
    },
    {
     "data": {
      "image/png": "[encoded data removed]",
      "text/plain": [
       "<Figure size 432x288 with 1 Axes>"
      ]
     },
     "metadata": {
      "needs_background": "light"
     },
     "output_type": "display_data"
    }
   ],
   "source": [
    "#In order to select the features that are most meaningful to our datasets, we'll run a chi-squared test.\n",
    "#The smallest the values of the features, the more important they are.\n",
    "from sklearn.feature_selection import chi2\n",
    "chi_scores = chi2(X,y)\n",
    "p_values = pd.Series(chi_scores[1],index = X.columns) \n",
    "p_values.sort_values(ascending = False , inplace = True)\n",
    "p_values.plot.bar() #we plot it\n",
    "#We see that Generosity and Freeedom are not as meaningful."
   ]
  },
  {
   "cell_type": "code",
   "execution_count": 92,
   "metadata": {},
   "outputs": [],
   "source": [
    "from sklearn import metrics\n",
    "from sklearn.ensemble import ExtraTreesClassifier"
   ]
  },
  {
   "cell_type": "code",
   "execution_count": 93,
   "metadata": {},
   "outputs": [
    {
     "name": "stdout",
     "output_type": "stream",
     "text": [
      "[0.50486229 0.1174235  0.0899252  0.13952484 0.05569885 0.05365244\n",
      " 0.03891288]\n"
     ]
    },
    {
     "data": {
      "image/png": "[encoded data removed]",
      "text/plain": [
       "<Figure size 432x288 with 1 Axes>"
      ]
     },
     "metadata": {
      "needs_background": "light"
     },
     "output_type": "display_data"
    }
   ],
   "source": [
    "#In order to validate the above results, we also run one of the built-in sklearn feature selection modules,\n",
    "#from ExtraTreesClassifier. Unlike the previous one, we expect our most important features to actually score\n",
    "#higher than the rest.\n",
    "model = ExtraTreesClassifier()\n",
    "model.fit(X,y)\n",
    "print(model.feature_importances_)\n",
    "feat_importances = pd.Series(model.feature_importances_, index=X.columns)\n",
    "feat_importances.nlargest(10).plot(kind='barh') #we plot it.\n",
    "plt.show()\n",
    "#We get again the same results as the previous test."
   ]
  },
  {
   "cell_type": "code",
   "execution_count": 94,
   "metadata": {},
   "outputs": [
    {
     "data": {
      "text/plain": [
       "Index(['Happiness_Score_2015', 'Economy (GDP per Capita)', 'Family',\n",
       "       'Health (Life Expectancy)'],\n",
       "      dtype='object')"
      ]
     },
     "execution_count": 94,
     "metadata": {},
     "output_type": "execute_result"
    }
   ],
   "source": [
    "#We drop the not so meaningful columns. \n",
    "X = X.drop(columns=['Trust (Government Corruption)','Freedom','Generosity']) \n",
    "X.shape\n",
    "\n",
    "X.columns\n",
    "#Now we have 4 predictor features."
   ]
  },
  {
   "cell_type": "code",
   "execution_count": 98,
   "metadata": {},
   "outputs": [
    {
     "data": {
      "text/html": [
       "<div>\n",
       "<style scoped>\n",
       "    .dataframe tbody tr th:only-of-type {\n",
       "        vertical-align: middle;\n",
       "    }\n",
       "\n",
       "    .dataframe tbody tr th {\n",
       "        vertical-align: top;\n",
       "    }\n",
       "\n",
       "    .dataframe thead th {\n",
       "        text-align: right;\n",
       "    }\n",
       "</style>\n",
       "<table border=\"1\" class=\"dataframe\">\n",
       "  <thead>\n",
       "    <tr style=\"text-align: right;\">\n",
       "      <th></th>\n",
       "      <th>Happiness_Score_2015</th>\n",
       "      <th>Economy (GDP per Capita)</th>\n",
       "      <th>Family</th>\n",
       "      <th>Health (Life Expectancy)</th>\n",
       "    </tr>\n",
       "  </thead>\n",
       "  <tbody>\n",
       "    <tr>\n",
       "      <th>0</th>\n",
       "      <td>2</td>\n",
       "      <td>1.39651</td>\n",
       "      <td>1.34951</td>\n",
       "      <td>0.94143</td>\n",
       "    </tr>\n",
       "    <tr>\n",
       "      <th>1</th>\n",
       "      <td>2</td>\n",
       "      <td>1.30232</td>\n",
       "      <td>1.40223</td>\n",
       "      <td>0.94784</td>\n",
       "    </tr>\n",
       "    <tr>\n",
       "      <th>2</th>\n",
       "      <td>2</td>\n",
       "      <td>1.32548</td>\n",
       "      <td>1.36058</td>\n",
       "      <td>0.87464</td>\n",
       "    </tr>\n",
       "    <tr>\n",
       "      <th>3</th>\n",
       "      <td>2</td>\n",
       "      <td>1.45900</td>\n",
       "      <td>1.33095</td>\n",
       "      <td>0.88521</td>\n",
       "    </tr>\n",
       "    <tr>\n",
       "      <th>4</th>\n",
       "      <td>2</td>\n",
       "      <td>1.32629</td>\n",
       "      <td>1.32261</td>\n",
       "      <td>0.90563</td>\n",
       "    </tr>\n",
       "  </tbody>\n",
       "</table>\n",
       "</div>"
      ],
      "text/plain": [
       "   Happiness_Score_2015  Economy (GDP per Capita)   Family  \\\n",
       "0                     2                   1.39651  1.34951   \n",
       "1                     2                   1.30232  1.40223   \n",
       "2                     2                   1.32548  1.36058   \n",
       "3                     2                   1.45900  1.33095   \n",
       "4                     2                   1.32629  1.32261   \n",
       "\n",
       "   Health (Life Expectancy)  \n",
       "0                   0.94143  \n",
       "1                   0.94784  \n",
       "2                   0.87464  \n",
       "3                   0.88521  \n",
       "4                   0.90563  "
      ]
     },
     "execution_count": 98,
     "metadata": {},
     "output_type": "execute_result"
    }
   ],
   "source": [
    "X.head()"
   ]
  },
  {
   "cell_type": "code",
   "execution_count": 99,
   "metadata": {},
   "outputs": [
    {
     "name": "stdout",
     "output_type": "stream",
     "text": [
      "[39 34 32]\n",
      "[17 15 14]\n"
     ]
    }
   ],
   "source": [
    "#We split into train and test.\n",
    "X_train, X_test, y_train, y_test = train_test_split(X, y, test_size = 0.3, shuffle=True, random_state=42, stratify=y)\n",
    "print(np.bincount(y_train))\n",
    "print(np.bincount(y_test))\n"
   ]
  },
  {
   "cell_type": "markdown",
   "metadata": {},
   "source": [
    "# Trying out different algorithms #"
   ]
  },
  {
   "cell_type": "markdown",
   "metadata": {},
   "source": [
    "## Perceptron\n"
   ]
  },
  {
   "cell_type": "code",
   "execution_count": 113,
   "metadata": {},
   "outputs": [
    {
     "name": "stdout",
     "output_type": "stream",
     "text": [
      "{'perceptron__eta0': 1.0, 'perceptron__max_iter': 50}\n",
      "              precision    recall  f1-score   support\n",
      "\n",
      "           0       1.00      0.76      0.87        17\n",
      "           1       0.74      0.93      0.82        15\n",
      "           2       0.93      0.93      0.93        14\n",
      "\n",
      "    accuracy                           0.87        46\n",
      "   macro avg       0.89      0.88      0.87        46\n",
      "weighted avg       0.89      0.87      0.87        46\n",
      "\n"
     ]
    },
    {
     "data": {
      "image/png": "[encoded data removed]",
      "text/plain": [
       "<Figure size 432x288 with 1 Axes>"
      ]
     },
     "metadata": {
      "needs_background": "light"
     },
     "output_type": "display_data"
    },
    {
     "data": {
      "image/png": "[encoded data removed]",
      "text/plain": [
       "<Figure size 432x288 with 2 Axes>"
      ]
     },
     "metadata": {
      "needs_background": "light"
     },
     "output_type": "display_data"
    }
   ],
   "source": [
    "#We create a pipeline containing stardard scaling and the algorithm.\n",
    "from sklearn.linear_model import Perceptron\n",
    "perc_pipeline= make_pipeline(StandardScaler(), Perceptron())\n",
    "perc_pipeline.get_params()\n",
    "param_grid = [{'perceptron__eta0': [0.001,0.01, 0.05,0.1, 1.0], #run a gridsearch\n",
    "               'perceptron__max_iter': [50,100,200,1000]}]\n",
    "\n",
    "gs = GridSearchCV(estimator=perc_pipeline, param_grid=param_grid, scoring='accuracy', cv=10, refit=True) #refit with the best model\n",
    "gs = gs.fit(X_train, y_train)\n",
    "print(gs.best_params_) #print the best params according to the gridsearch\n",
    "perc = gs.best_estimator_.predict(X_test) #assign the best model predictions to a variable\n",
    "print(classification_report(y_test,perc)) #print classification report\n",
    "scores = cross_val_score(estimator=gs, X=X_train, y=y_train, cv=10, scoring='f1_macro') #print cross validation score\n",
    "pd.DataFrame(scores).boxplot() #plot the cross validation accuracy score\n",
    "plot_confusion_matrix(gs, X_test, y_test, labels=gs.classes_, cmap='Blues') #plot the confusion matrix\n",
    "plt.show()\n"
   ]
  },
  {
   "cell_type": "markdown",
   "metadata": {},
   "source": [
    "## Logistic Regression"
   ]
  },
  {
   "cell_type": "code",
   "execution_count": 101,
   "metadata": {},
   "outputs": [
    {
     "data": {
      "text/plain": [
       "{'memory': None,\n",
       " 'steps': [('standardscaler', StandardScaler()),\n",
       "  ('logisticregression', LogisticRegression())],\n",
       " 'verbose': False,\n",
       " 'standardscaler': StandardScaler(),\n",
       " 'logisticregression': LogisticRegression(),\n",
       " 'standardscaler__copy': True,\n",
       " 'standardscaler__with_mean': True,\n",
       " 'standardscaler__with_std': True,\n",
       " 'logisticregression__C': 1.0,\n",
       " 'logisticregression__class_weight': None,\n",
       " 'logisticregression__dual': False,\n",
       " 'logisticregression__fit_intercept': True,\n",
       " 'logisticregression__intercept_scaling': 1,\n",
       " 'logisticregression__l1_ratio': None,\n",
       " 'logisticregression__max_iter': 100,\n",
       " 'logisticregression__multi_class': 'auto',\n",
       " 'logisticregression__n_jobs': None,\n",
       " 'logisticregression__penalty': 'l2',\n",
       " 'logisticregression__random_state': None,\n",
       " 'logisticregression__solver': 'lbfgs',\n",
       " 'logisticregression__tol': 0.0001,\n",
       " 'logisticregression__verbose': 0,\n",
       " 'logisticregression__warm_start': False}"
      ]
     },
     "execution_count": 101,
     "metadata": {},
     "output_type": "execute_result"
    }
   ],
   "source": [
    "from sklearn.linear_model import LogisticRegression\n",
    "#We create a pipeline containing stardard scaling and the algorithm.\n",
    "lr_pipe = make_pipeline(StandardScaler(), LogisticRegression())\n",
    "lr_pipe.get_params() #we print the parameters' names"
   ]
  },
  {
   "cell_type": "code",
   "execution_count": 117,
   "metadata": {},
   "outputs": [
    {
     "name": "stdout",
     "output_type": "stream",
     "text": [
      "{'logisticregression__C': 10.0, 'logisticregression__solver': 'lbfgs', 'logisticregression__tol': 0.0001}\n",
      "              precision    recall  f1-score   support\n",
      "\n",
      "           0       1.00      0.94      0.97        17\n",
      "           1       0.79      1.00      0.88        15\n",
      "           2       1.00      0.79      0.88        14\n",
      "\n",
      "    accuracy                           0.91        46\n",
      "   macro avg       0.93      0.91      0.91        46\n",
      "weighted avg       0.93      0.91      0.91        46\n",
      "\n"
     ]
    },
    {
     "data": {
      "image/png": "[encoded data removed]",
      "text/plain": [
       "<Figure size 432x288 with 1 Axes>"
      ]
     },
     "metadata": {
      "needs_background": "light"
     },
     "output_type": "display_data"
    },
    {
     "data": {
      "image/png": "[encoded data removed]",
      "text/plain": [
       "<Figure size 432x288 with 2 Axes>"
      ]
     },
     "metadata": {
      "needs_background": "light"
     },
     "output_type": "display_data"
    }
   ],
   "source": [
    "param_grid = [{'logisticregression__C': [0.01, 0.1, 1.0, 10.0, 100.0],\n",
    "               'logisticregression__solver': ['liblinear'],\n",
    "                'logisticregression__tol': [0.0001, 0.001, 0.01, 0.1, 1.0, 10.0, 100.0]},\n",
    "             {'logisticregression__C': [0.01, 0.1, 1.0, 10.0, 100.0],\n",
    "               'logisticregression__tol' : [0.0001, 0.001, 0.01, 0.1, 1.0, 10.0, 100.0], #run a gridsearch\n",
    "               'logisticregression__solver': ['lbfgs']}]\n",
    "\n",
    "gs = GridSearchCV(estimator=lr_pipe, param_grid=param_grid, scoring='accuracy', cv=10, refit=True)#refit with the best model\n",
    "gs = gs.fit(X_train, y_train)\n",
    "print(gs.best_params_) #print the best params according to the gridsearch\n",
    "lr = gs.best_estimator_.predict(X_test) #assign the best model predictions to a variable\n",
    "print(classification_report(y_test,lr)) #print classification report\n",
    "scores = cross_val_score(estimator=gs, X=X_train, y=y_train, cv=10, scoring='f1_macro')#print cross validation score\n",
    "pd.DataFrame(scores).boxplot() #print the boxplot of the cross val accuracy scores\n",
    "plot_confusion_matrix(gs, X_test, y_test, labels=gs.classes_, cmap='Blues')#plot the confusion matrix\n",
    "plt.show()"
   ]
  },
  {
   "cell_type": "markdown",
   "metadata": {},
   "source": [
    "## Decision Trees"
   ]
  },
  {
   "cell_type": "code",
   "execution_count": 123,
   "metadata": {},
   "outputs": [
    {
     "name": "stdout",
     "output_type": "stream",
     "text": [
      "{'memory': None, 'steps': [('standardscaler', StandardScaler()), ('decisiontreeclassifier', DecisionTreeClassifier())], 'verbose': False, 'standardscaler': StandardScaler(), 'decisiontreeclassifier': DecisionTreeClassifier(), 'standardscaler__copy': True, 'standardscaler__with_mean': True, 'standardscaler__with_std': True, 'decisiontreeclassifier__ccp_alpha': 0.0, 'decisiontreeclassifier__class_weight': None, 'decisiontreeclassifier__criterion': 'gini', 'decisiontreeclassifier__max_depth': None, 'decisiontreeclassifier__max_features': None, 'decisiontreeclassifier__max_leaf_nodes': None, 'decisiontreeclassifier__min_impurity_decrease': 0.0, 'decisiontreeclassifier__min_impurity_split': None, 'decisiontreeclassifier__min_samples_leaf': 1, 'decisiontreeclassifier__min_samples_split': 2, 'decisiontreeclassifier__min_weight_fraction_leaf': 0.0, 'decisiontreeclassifier__presort': 'deprecated', 'decisiontreeclassifier__random_state': None, 'decisiontreeclassifier__splitter': 'best'}\n"
     ]
    }
   ],
   "source": [
    "from sklearn.tree import DecisionTreeClassifier\n",
    "#We create a pipeline containing stardard scaling and the algorithm.\n",
    "from sklearn import tree \n",
    "tree_pipe = make_pipeline(StandardScaler(), DecisionTreeClassifier())\n",
    "print(tree_pipe.get_params()) #we print the parameters' names\n",
    "fittedtree = tree_pipe.fit(X_train,y_train)"
   ]
  },
  {
   "cell_type": "code",
   "execution_count": 133,
   "metadata": {},
   "outputs": [
    {
     "name": "stdout",
     "output_type": "stream",
     "text": [
      "{'kneighborsclassifier__n_neighbors': 5}\n",
      "              precision    recall  f1-score   support\n",
      "\n",
      "           0       0.94      1.00      0.97        17\n",
      "           1       0.93      0.93      0.93        15\n",
      "           2       1.00      0.93      0.96        14\n",
      "\n",
      "    accuracy                           0.96        46\n",
      "   macro avg       0.96      0.95      0.96        46\n",
      "weighted avg       0.96      0.96      0.96        46\n",
      "\n"
     ]
    },
    {
     "data": {
      "image/png": "[encoded data removed]",
      "text/plain": [
       "<Figure size 432x288 with 1 Axes>"
      ]
     },
     "metadata": {
      "needs_background": "light"
     },
     "output_type": "display_data"
    },
    {
     "data": {
      "image/png": "[encoded data removed]",
      "text/plain": [
       "<Figure size 432x288 with 2 Axes>"
      ]
     },
     "metadata": {
      "needs_background": "light"
     },
     "output_type": "display_data"
    }
   ],
   "source": [
    "param_grid = [{'decisiontreeclassifier__max_depth': [2,3,4,5,6],\n",
    "               'decisiontreeclassifier__criterion': ['gini', 'entropy']}] #run a gridsearch\n",
    "\n",
    "ts = GridSearchCV(estimator=tree_pipe, param_grid=param_grid, scoring='accuracy', cv=10, refit=True)#refit with the best model\n",
    "ts.fit(X_train, y_train)\n",
    "print(gs.best_params_) #print the best params according to the gridsearch\n",
    "mytree = ts.best_estimator_.predict(X_test) #assign the best model predictions to a variable\n",
    "print(classification_report(y_test,mytree)) #print classification report\n",
    "scores = cross_val_score(estimator=ts, X=X_train, y=y_train, cv=10, scoring='f1_macro') #print cross validation score\n",
    "pd.DataFrame(scores).boxplot() #print the boxplot of the cross val accuracy scores\n",
    "plot_confusion_matrix(ts, X_test, y_test, labels=gs.classes_, cmap='Blues')#plot the confusion matrix\n",
    "plt.show()"
   ]
  },
  {
   "cell_type": "code",
   "execution_count": 127,
   "metadata": {},
   "outputs": [
    {
     "data": {
      "image/png": "[encoded data removed]",
      "text/plain": [
       "<Figure size 1800x1440 with 1 Axes>"
      ]
     },
     "metadata": {
      "needs_background": "light"
     },
     "output_type": "display_data"
    }
   ],
   "source": [
    "#It didn't let me plot the decision tree with the pipeline, so I recreated the pipeline manually.\n",
    "dt = DecisionTreeClassifier(criterion='entropy', max_depth=4, random_state=42) \n",
    "scaler = StandardScaler() # scale the feature values in such a way that mean is 0 and sd is 1\n",
    "scaler.fit(X_train)\n",
    "X_train_std = scaler.transform(X_train) \n",
    "X_test_std = scaler.transform(X_test)\n",
    "dt.fit(X_train_std, y_train) #fitting the model with our scaled data\n",
    "\n",
    "plt.figure(figsize=(25,20))\n",
    "tree.plot_tree(dt,feature_names=['Happiness_2015','Economy','Family','Health',],class_names = ['Unhappy', 'Meh', 'Happy'])\n",
    "plt.show() #plotting the tree"
   ]
  },
  {
   "cell_type": "markdown",
   "metadata": {},
   "source": [
    "## K-Nearest Neighbors\n"
   ]
  },
  {
   "cell_type": "code",
   "execution_count": 132,
   "metadata": {},
   "outputs": [
    {
     "name": "stdout",
     "output_type": "stream",
     "text": [
      "{'kneighborsclassifier__n_neighbors': 5}\n",
      "              precision    recall  f1-score   support\n",
      "\n",
      "           0       0.94      0.94      0.94        17\n",
      "           1       0.88      0.93      0.90        15\n",
      "           2       1.00      0.93      0.96        14\n",
      "\n",
      "    accuracy                           0.93        46\n",
      "   macro avg       0.94      0.93      0.94        46\n",
      "weighted avg       0.94      0.93      0.94        46\n",
      "\n"
     ]
    },
    {
     "data": {
      "image/png": "[encoded data removed]",
      "text/plain": [
       "<Figure size 432x288 with 1 Axes>"
      ]
     },
     "metadata": {
      "needs_background": "light"
     },
     "output_type": "display_data"
    },
    {
     "data": {
      "image/png": "[encoded data removed]",
      "text/plain": [
       "<Figure size 432x288 with 2 Axes>"
      ]
     },
     "metadata": {
      "needs_background": "light"
     },
     "output_type": "display_data"
    }
   ],
   "source": [
    "from sklearn.neighbors import KNeighborsClassifier\n",
    "#We create a pipeline containing stardard scaling and the algorithm.\n",
    "knn_pipe = make_pipeline(StandardScaler(), KNeighborsClassifier())\n",
    "knn_pipe.get_params() #we print the parameters' names\n",
    "param_grid = [{'kneighborsclassifier__n_neighbors': [1,2,3,4,5,6]}] #run a gridsearch\n",
    "gs = GridSearchCV(estimator=knn_pipe, param_grid=param_grid, scoring='accuracy', cv=10, refit=True) #refit with the best model\n",
    "gs.fit(X_train, y_train)\n",
    "print(gs.best_params_) #print the best params according to the gridsearch\n",
    "knn_pred = gs.best_estimator_.predict(X_test) #assign the best model predictions to a variable\n",
    "print(classification_report(y_test,knn_pred)) #print classification report\n",
    "scores = cross_val_score(estimator=gs, X=X_train, y=y_train, cv=10, scoring='f1_macro') #print cross validation score\n",
    "pd.DataFrame(scores).boxplot() #print the boxplot of the cross val accuracy scores\n",
    "plot_confusion_matrix(gs, X_test, y_test, labels=gs.classes_, cmap='Blues') #plot the confusion matrix\n",
    "plt.show()\n"
   ]
  },
  {
   "cell_type": "markdown",
   "metadata": {},
   "source": [
    "## SVM\n"
   ]
  },
  {
   "cell_type": "code",
   "execution_count": 107,
   "metadata": {},
   "outputs": [],
   "source": [
    "from sklearn.svm import SVC"
   ]
  },
  {
   "cell_type": "code",
   "execution_count": 108,
   "metadata": {},
   "outputs": [
    {
     "data": {
      "text/plain": [
       "{'memory': None,\n",
       " 'steps': [('standardscaler', StandardScaler()), ('svc', SVC())],\n",
       " 'verbose': False,\n",
       " 'standardscaler': StandardScaler(),\n",
       " 'svc': SVC(),\n",
       " 'standardscaler__copy': True,\n",
       " 'standardscaler__with_mean': True,\n",
       " 'standardscaler__with_std': True,\n",
       " 'svc__C': 1.0,\n",
       " 'svc__break_ties': False,\n",
       " 'svc__cache_size': 200,\n",
       " 'svc__class_weight': None,\n",
       " 'svc__coef0': 0.0,\n",
       " 'svc__decision_function_shape': 'ovr',\n",
       " 'svc__degree': 3,\n",
       " 'svc__gamma': 'scale',\n",
       " 'svc__kernel': 'rbf',\n",
       " 'svc__max_iter': -1,\n",
       " 'svc__probability': False,\n",
       " 'svc__random_state': None,\n",
       " 'svc__shrinking': True,\n",
       " 'svc__tol': 0.001,\n",
       " 'svc__verbose': False}"
      ]
     },
     "execution_count": 108,
     "metadata": {},
     "output_type": "execute_result"
    }
   ],
   "source": [
    "svc = make_pipeline(StandardScaler(), SVC())\n",
    "#We create a pipeline containing stardard scaling and the algorithm.\n",
    "svc.get_params() #we print the parameters' names\n"
   ]
  },
  {
   "cell_type": "code",
   "execution_count": 134,
   "metadata": {},
   "outputs": [
    {
     "name": "stdout",
     "output_type": "stream",
     "text": [
      "{'svc__C': 1.0, 'svc__gamma': 0.01, 'svc__kernel': 'linear'}\n",
      "              precision    recall  f1-score   support\n",
      "\n",
      "           0       0.94      0.94      0.94        17\n",
      "           1       0.88      0.93      0.90        15\n",
      "           2       1.00      0.93      0.96        14\n",
      "\n",
      "    accuracy                           0.93        46\n",
      "   macro avg       0.94      0.93      0.94        46\n",
      "weighted avg       0.94      0.93      0.94        46\n",
      "\n"
     ]
    },
    {
     "data": {
      "image/png": "[encoded data removed]",
      "text/plain": [
       "<Figure size 432x288 with 1 Axes>"
      ]
     },
     "metadata": {
      "needs_background": "light"
     },
     "output_type": "display_data"
    },
    {
     "data": {
      "image/png": "[encoded data removed]",
      "text/plain": [
       "<Figure size 432x288 with 2 Axes>"
      ]
     },
     "metadata": {
      "needs_background": "light"
     },
     "output_type": "display_data"
    }
   ],
   "source": [
    "param_grid = [{'svc__gamma': [0.01, 0.1, 0.5, 1.0, 10.0, 50.0, 100.0, 1000.0],\n",
    "              'svc__C' : [0.01, 0.1, 1.0, 10.0, 20.0],\n",
    "               'svc__kernel': ['linear']},\n",
    "              {'svc__gamma': [0.01, 0.1, 0.5, 1.0, 10.0, 50.0, 100.0, 1000.0], #run a gridsearch\n",
    "              'svc__C' : [0.01, 0.1, 1.0, 10.0, 20.0],\n",
    "               'svc__kernel': ['rbf']}]\n",
    "gs = GridSearchCV(estimator=svc, param_grid=param_grid, scoring='accuracy', cv=10, refit=True) #refit with the best model\n",
    "gs.fit(X_train, y_train) #fit the grid search to our data\n",
    "print(gs.best_params_) #print the best params according to the gridsearch\n",
    "svm_pred = gs.best_estimator_.predict(X_test) #assign the best model predictions to a variable\n",
    "print(classification_report(y_test,svm_pred)) #print classification report\n",
    "scores = cross_val_score(estimator=gs, X=X_train, y=y_train, cv=10, scoring='f1_macro') #print cross validation score\n",
    "pd.DataFrame(scores).boxplot() #print the boxplot of the cross val accuracy scores\n",
    "plot_confusion_matrix(gs, X_test, y_test, labels=gs.classes_, cmap='Blues')#plot the confusion matrix\n",
    "plt.show()"
   ]
  },
  {
   "cell_type": "markdown",
   "metadata": {},
   "source": [
    "## SGD Classifier ##"
   ]
  },
  {
   "cell_type": "code",
   "execution_count": 110,
   "metadata": {},
   "outputs": [],
   "source": [
    "from sklearn.linear_model import SGDClassifier"
   ]
  },
  {
   "cell_type": "code",
   "execution_count": 137,
   "metadata": {},
   "outputs": [
    {
     "data": {
      "text/plain": [
       "{'memory': None,\n",
       " 'steps': [('standardscaler', StandardScaler()),\n",
       "  ('sgdclassifier', SGDClassifier())],\n",
       " 'verbose': False,\n",
       " 'standardscaler': StandardScaler(),\n",
       " 'sgdclassifier': SGDClassifier(),\n",
       " 'standardscaler__copy': True,\n",
       " 'standardscaler__with_mean': True,\n",
       " 'standardscaler__with_std': True,\n",
       " 'sgdclassifier__alpha': 0.0001,\n",
       " 'sgdclassifier__average': False,\n",
       " 'sgdclassifier__class_weight': None,\n",
       " 'sgdclassifier__early_stopping': False,\n",
       " 'sgdclassifier__epsilon': 0.1,\n",
       " 'sgdclassifier__eta0': 0.0,\n",
       " 'sgdclassifier__fit_intercept': True,\n",
       " 'sgdclassifier__l1_ratio': 0.15,\n",
       " 'sgdclassifier__learning_rate': 'optimal',\n",
       " 'sgdclassifier__loss': 'hinge',\n",
       " 'sgdclassifier__max_iter': 1000,\n",
       " 'sgdclassifier__n_iter_no_change': 5,\n",
       " 'sgdclassifier__n_jobs': None,\n",
       " 'sgdclassifier__penalty': 'l2',\n",
       " 'sgdclassifier__power_t': 0.5,\n",
       " 'sgdclassifier__random_state': None,\n",
       " 'sgdclassifier__shuffle': True,\n",
       " 'sgdclassifier__tol': 0.001,\n",
       " 'sgdclassifier__validation_fraction': 0.1,\n",
       " 'sgdclassifier__verbose': 0,\n",
       " 'sgdclassifier__warm_start': False}"
      ]
     },
     "execution_count": 137,
     "metadata": {},
     "output_type": "execute_result"
    }
   ],
   "source": [
    "sgd = make_pipeline(StandardScaler(), SGDClassifier())\n",
    "#We create a pipeline containing stardard scaling and the algorithm.\n",
    "sgd.get_params() #we print the parameters' names"
   ]
  },
  {
   "cell_type": "code",
   "execution_count": 139,
   "metadata": {},
   "outputs": [
    {
     "name": "stdout",
     "output_type": "stream",
     "text": [
      "{'sgdclassifier__alpha': 0.01, 'sgdclassifier__loss': 'log', 'sgdclassifier__penalty': 'l1'}\n",
      "              precision    recall  f1-score   support\n",
      "\n",
      "           0       1.00      0.94      0.97        17\n",
      "           1       0.88      1.00      0.94        15\n",
      "           2       1.00      0.93      0.96        14\n",
      "\n",
      "    accuracy                           0.96        46\n",
      "   macro avg       0.96      0.96      0.96        46\n",
      "weighted avg       0.96      0.96      0.96        46\n",
      "\n"
     ]
    },
    {
     "data": {
      "image/png": "[encoded data removed]",
      "text/plain": [
       "<Figure size 432x288 with 1 Axes>"
      ]
     },
     "metadata": {
      "needs_background": "light"
     },
     "output_type": "display_data"
    },
    {
     "data": {
      "image/png": "[encoded data removed]",
      "text/plain": [
       "<Figure size 432x288 with 2 Axes>"
      ]
     },
     "metadata": {
      "needs_background": "light"
     },
     "output_type": "display_data"
    }
   ],
   "source": [
    "params = [{'sgdclassifier__alpha': [0.00001, 0.0001, 0.001, 0.01, 0.1, 1.0],\n",
    "           'sgdclassifier__loss': ['perceptron', 'hinge', 'log'],\n",
    "           'sgdclassifier__penalty': ['l2', 'l1', 'elasticnet']}] #run a gridsearch\n",
    "gs = GridSearchCV(estimator=sgd, param_grid=params, scoring='f1_macro', cv=10, n_jobs=-1, refit=True) #refit with the best model\n",
    "gs.fit(X_train, y_train)\n",
    "print(gs.best_params_) #print the best params according to the gridsearch\n",
    "sgd_pred = gs.best_estimator_.predict(X_test) #assign the best model predictions to a variable\n",
    "print(classification_report(y_test,sgd_pred)) #print classification report\n",
    "scores = cross_val_score(estimator=gs, X=X_train, y=y_train, cv=10, scoring='f1_macro') #print cross validation score\n",
    "pd.DataFrame(scores).boxplot() #print the boxplot of the cross val accuracy scores\n",
    "plot_confusion_matrix(gs, X_test, y_test, labels=gs.classes_, cmap='Blues')#plot the confusion matrix\n",
    "plt.show()"
   ]
  },
  {
   "cell_type": "code",
   "execution_count": null,
   "metadata": {},
   "outputs": [],
   "source": []
  }
 ],
 "metadata": {
  "kernelspec": {
   "display_name": "Python 3",
   "language": "python",
   "name": "python3"
  },
  "language_info": {
   "codemirror_mode": {
    "name": "ipython",
    "version": 3
   },
   "file_extension": ".py",
   "mimetype": "text/x-python",
   "name": "python",
   "nbconvert_exporter": "python",
   "pygments_lexer": "ipython3",
   "version": "3.8.3"
  }
 },
 "nbformat": 4,
 "nbformat_minor": 4
}
